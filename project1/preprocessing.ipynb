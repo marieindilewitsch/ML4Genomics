{
 "cells": [
  {
   "cell_type": "code",
   "execution_count": null,
   "id": "ee99fc62-3583-425f-be05-865fb3cd1131",
   "metadata": {},
   "outputs": [],
   "source": [
    "#Feature Engineering\n",
    "\"\"\"\n",
    "This script creates a dataset with the features used for model prediction\n",
    "\"\"\""
   ]
  },
  {
   "cell_type": "code",
   "execution_count": null,
   "id": "ea0f4e86-8471-47c0-aca5-b09d0c75ed60",
   "metadata": {},
   "outputs": [],
   "source": [
    "def load_files():\n",
    "    "
   ]
  },
  {
   "cell_type": "code",
   "execution_count": null,
   "id": "8302c857-f1f9-4b63-a367-e5a4aecfd488",
   "metadata": {},
   "outputs": [],
   "source": [
    "def "
   ]
  },
  {
   "cell_type": "code",
   "execution_count": null,
   "id": "52b00ddb-14ae-4f73-9fde-3386e4d44ad6",
   "metadata": {},
   "outputs": [],
   "source": [
    "histone_list = ['H3K4me3','H3K4me1','H3K36me3','H3K27me3','H3K27ac','DNase']"
   ]
  },
  {
   "cell_type": "code",
   "execution_count": null,
   "id": "de645d42-fd99-4b64-9356-a9179b0140c0",
   "metadata": {},
   "outputs": [],
   "source": [
    "def merge_CAGE_info_and_y(info, y):\n",
    "    df_info = pd.read_csv(info)\n",
    "    df_y = pd.read_csv(y)\n",
    "    pd.concatenate(df)"
   ]
  },
  {
   "cell_type": "code",
   "execution_count": null,
   "id": "72a84ab9-251c-4db6-8cff-44967f6ff1f5",
   "metadata": {},
   "outputs": [],
   "source": [
    "features.create_csv('prediction_features.csv')"
   ]
  }
 ],
 "metadata": {
  "kernelspec": {
   "display_name": "Python 3 (ipykernel)",
   "language": "python",
   "name": "python3"
  },
  "language_info": {
   "codemirror_mode": {
    "name": "ipython",
    "version": 3
   },
   "file_extension": ".py",
   "mimetype": "text/x-python",
   "name": "python",
   "nbconvert_exporter": "python",
   "pygments_lexer": "ipython3",
   "version": "3.13.0"
  }
 },
 "nbformat": 4,
 "nbformat_minor": 5
}
