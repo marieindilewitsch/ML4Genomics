{
 "cells": [
  {
   "cell_type": "code",
   "execution_count": 3,
   "metadata": {},
   "outputs": [],
   "source": [
    "# Import libraries that are required to run your project\n",
    "# You are allowed to add more libraries as you need\n",
    "\n",
    "import pandas as pd\n",
    "import numpy as np\n",
    "from scipy.stats import spearmanr\n",
    "import zipfile\n",
    "import matplotlib.pyplot as plt\n",
    "import pyBigWig"
   ]
  },
  {
   "cell_type": "markdown",
   "metadata": {},
   "source": [
    "# Project 1 : Prediction of Gene Expression from Chromatin Landscape"
   ]
  },
  {
   "cell_type": "markdown",
   "metadata": {},
   "source": [
    "The following notebook ...\n",
    "\n",
    "#### Use the following data for feature engineering:\n",
    "-\n",
    "-\n",
    "-"
   ]
  },
  {
   "cell_type": "markdown",
   "metadata": {},
   "source": [
    "## Work Package 1.1 - Modeling Choices & Data Pre-processing"
   ]
  },
  {
   "cell_type": "code",
   "execution_count": 21,
   "metadata": {},
   "outputs": [
    {
     "name": "stdout",
     "output_type": "stream",
     "text": [
      "['CAGE-train/', 'CAGE-train/X1_train_y.tsv', '__MACOSX/CAGE-train/._X1_train_y.tsv', 'CAGE-train/X3_test_info.tsv', '__MACOSX/CAGE-train/._X3_test_info.tsv', 'CAGE-train/X2_train_y.tsv', 'CAGE-train/X1_val_y.tsv', 'CAGE-train/X2_val_info.tsv', 'CAGE-train/X1_val_info.tsv', 'CAGE-train/X2_val_y.tsv', 'CAGE-train/X2_train_info.tsv', 'CAGE-train/X1_train_info.tsv', '__MACOSX/CAGE-train/._X1_train_info.tsv']\n",
      "  gene_name    chr  gene_start   gene_end  TSS_start    TSS_end strand\n",
      "0   SLC20A1   chr2   112645939  112663825  112658362  112658412      +\n",
      "1  C11orf58  chr11    16613132   16758340   16738643   16738693      +\n",
      "2    ZSCAN9   chr6    28224886   28233487   28225263   28225313      +\n",
      "3      CD19  chr16    28931965   28939342   28931956   28932006      +\n",
      "4   TMEM123  chr11   102396332  102470384  102452789  102452839      -\n",
      "unzipped_files/CAGE-train/X1_train_y.tsv\n",
      "unzipped_files/CAGE-train/X3_test_info.tsv\n",
      "unzipped_files/CAGE-train/X2_train_y.tsv\n",
      "unzipped_files/CAGE-train/X1_val_y.tsv\n",
      "unzipped_files/CAGE-train/X2_val_info.tsv\n",
      "unzipped_files/CAGE-train/X1_val_info.tsv\n",
      "unzipped_files/CAGE-train/X2_val_y.tsv\n",
      "unzipped_files/CAGE-train/X2_train_info.tsv\n",
      "unzipped_files/CAGE-train/X1_train_info.tsv\n",
      "  gene_name          gex  chr  gene_start  gene_end  TSS_start  TSS_end strand\n",
      "0   SLC20A1     0.000000  NaN         NaN       NaN        NaN      NaN    NaN\n",
      "1  C11orf58  2239.103328  NaN         NaN       NaN        NaN      NaN    NaN\n",
      "2    ZSCAN9    19.798064  NaN         NaN       NaN        NaN      NaN    NaN\n",
      "3      CD19   411.530623  NaN         NaN       NaN        NaN      NaN    NaN\n",
      "4   TMEM123    34.214129  NaN         NaN       NaN        NaN      NaN    NaN\n"
     ]
    }
   ],
   "source": [
    "# TODO: \n",
    "# Load your feature (bed and/or bigwig and/or fasta) and target files (tsv) here. bed are binary files.\n",
    "# Decide which features to use for training. Feel free to process them however you need.\n",
    "\n",
    "# NOTE: \n",
    "# bed and bigwig files contain signals of all chromosomes (including sex chromosomes).\n",
    "# Training and validation split based on chromosomes has been done for you. \n",
    "# However, you can resplit the data in any way you want.\n",
    "\n",
    "#path_data = \"./\"  # TODO\n",
    "#path_test = \"/path/to/test/info/file\"   # X3_test_info.tsv ; TODO\n",
    "#test_genes = pd.read_csv(path_test, sep='\\t')\n",
    "# ---------------------------INSERT CODE HERE---------------------------\n",
    "\"\"\"\"\n",
    "The following notebook ...\n",
    "\"\"\"\"\n",
    "#we unzip the files on bash\n",
    "\n",
    "\n",
    "# ---------------------------------------------------------------------- "
   ]
  },
  {
   "cell_type": "code",
   "execution_count": 13,
   "metadata": {},
   "outputs": [
    {
     "name": "stderr",
     "output_type": "stream",
     "text": [
      "[urlOpen] Couldn't open ./Desktop/College/CBB/3rd_Semester/ML4Genomics/Projects/Project_1/ML4G_Project_1_Data/H3K27ac-bigwig/X2.bw for reading\n",
      "[urlOpen] Couldn't open ./Desktop/College/CBB/3rd_Semester/ML4Genomics/Projects/Project_1/ML4G_Project_1_Data/H3K27ac-bigwig/X2.bw for reading\n",
      "[pyBwOpen] bw is NULL!\n"
     ]
    },
    {
     "ename": "RuntimeError",
     "evalue": "Received an error during file opening!",
     "output_type": "error",
     "traceback": [
      "\u001b[0;31m---------------------------------------------------------------------------\u001b[0m",
      "\u001b[0;31mRuntimeError\u001b[0m                              Traceback (most recent call last)",
      "Cell \u001b[0;32mIn[13], line 5\u001b[0m\n\u001b[1;32m      3\u001b[0m data_folder \u001b[38;5;241m=\u001b[39m \u001b[38;5;124m\"\u001b[39m\u001b[38;5;124m./Desktop/College/CBB/3rd_Semester/ML4Genomics/Projects/Project_1/ML4G_Project_1_Data/\u001b[39m\u001b[38;5;124m\"\u001b[39m\n\u001b[1;32m      4\u001b[0m \u001b[38;5;66;03m# Open the .bw file\u001b[39;00m\n\u001b[0;32m----> 5\u001b[0m bw \u001b[38;5;241m=\u001b[39m \u001b[43mpyBigWig\u001b[49m\u001b[38;5;241;43m.\u001b[39;49m\u001b[43mopen\u001b[49m\u001b[43m(\u001b[49m\u001b[43mdata_folder\u001b[49m\u001b[43m \u001b[49m\u001b[38;5;241;43m+\u001b[39;49m\u001b[43m \u001b[49m\u001b[38;5;124;43m\"\u001b[39;49m\u001b[38;5;124;43mH3K27ac-bigwig/X2.bw\u001b[39;49m\u001b[38;5;124;43m\"\u001b[39;49m\u001b[43m)\u001b[49m\n\u001b[1;32m      7\u001b[0m \u001b[38;5;66;03m# Check if the file was loaded correctly\u001b[39;00m\n\u001b[1;32m      8\u001b[0m \u001b[38;5;28;01mif\u001b[39;00m bw\u001b[38;5;241m.\u001b[39misBigWig():\n",
      "\u001b[0;31mRuntimeError\u001b[0m: Received an error during file opening!"
     ]
    }
   ],
   "source": [
    "data_folder = \"./Desktop/College/CBB/3rd_Semester/ML4Genomics/Projects/Project_1/ML4G_Project_1_Data/\"\n",
    "# Open the .bw file\n",
    "bw = pyBigWig.open(data_folder + \"H3K27ac-bigwig/X2.bw\")\n",
    "\n",
    "\n",
    "\n",
    "# Check if the file was loaded correctly\n",
    "if bw.isBigWig():\n",
    "    print(\"File loaded successfully\")\n",
    "\n",
    "# Example: get statistics (mean value) for a specific region\n",
    "# Replace \"chr1\" with your desired chromosome name and coordinates\n",
    "stats = bw.stats(\"chr1\", 0, 1000, nBins=10)\n",
    "print(f\"Mean value for chr1:0-1000: {stats}\")\n",
    "\n",
    "# Example: retrieve values for individual bases in a range\n",
    "values = bw.values(\"chr1\", 0, 1000)\n",
    "print(values)\n",
    "\n",
    "# Close the file when done\n",
    "bw.close()\n",
    "\n",
    "stats "
   ]
  },
  {
   "cell_type": "code",
   "execution_count": 7,
   "metadata": {},
   "outputs": [
    {
     "data": {
      "text/plain": [
       "[0.42409586906433105]"
      ]
     },
     "execution_count": 7,
     "metadata": {},
     "output_type": "execute_result"
    }
   ],
   "source": [
    "stats"
   ]
  },
  {
   "cell_type": "code",
   "execution_count": 37,
   "metadata": {},
   "outputs": [
    {
     "data": {
      "image/png": "[encoded data removed]",
      "text/plain": [
       "<Figure size 800x600 with 1 Axes>"
      ]
     },
     "metadata": {},
     "output_type": "display_data"
    }
   ],
   "source": [
    "y_files = [file for file in tsv_files if file.endswith('_y.tsv')]\n",
    "\n",
    "# Step 2: Read and collect 'gex' column data\n",
    "gex_values = []\n",
    "\n",
    "for tsv_file in y_files:\n",
    "    df = pd.read_csv(tsv_file, delimiter='\\t')\n",
    "    \n",
    "    # Ensure 'gex' column exists\n",
    "    if 'gex' in df.columns:\n",
    "        gex_filtered = df['gex'][(df['gex'] >= 0) & (df['gex'] <= 100)].dropna().values\n",
    "        gex_values.extend(df['gex'].dropna().values)\n",
    "\n",
    "# Step 3: Plot the distribution of 'gex' values\n",
    "plt.figure(figsize=(8, 6))\n",
    "plt.hist(gex_values, bins=50, color='blue', alpha=0.7)\n",
    "plt.title(\"Distribution of 'gex' Values from Files Ending with '_y.tsv'\")\n",
    "plt.xlabel('gex Values')\n",
    "plt.ylabel('Frequency')\n",
    "plt.grid(True)\n",
    "plt.xlim(0, 3000)\n",
    "plt.show()"
   ]
  },
  {
   "cell_type": "code",
   "execution_count": 40,
   "metadata": {},
   "outputs": [
    {
     "data": {
      "text/plain": [
       "32568"
      ]
     },
     "execution_count": 40,
     "metadata": {},
     "output_type": "execute_result"
    }
   ],
   "source": [
    "len(gex_values)"
   ]
  },
  {
   "cell_type": "code",
   "execution_count": 22,
   "metadata": {},
   "outputs": [
    {
     "data": {
      "text/plain": [
       "[      gene_name          gex\n",
       " 0       SLC20A1     0.000000\n",
       " 1      C11orf58  2239.103328\n",
       " 2        ZSCAN9    19.798064\n",
       " 3          CD19   411.530623\n",
       " 4       TMEM123    34.214129\n",
       " ...         ...          ...\n",
       " 14305     ACOX1     0.000000\n",
       " 14306     MLXIP     0.000000\n",
       " 14307     ASGR2     0.000000\n",
       " 14308     OR5A1     0.000000\n",
       " 14309      TLR3     0.480536\n",
       " \n",
       " [14310 rows x 2 columns],\n",
       "        gene_name   chr  gene_start   gene_end  TSS_start    TSS_end strand\n",
       " 0          CAPN9  chr1   230747384  230802003  230791876  230791926      +\n",
       " 1           ILF2  chr1   153661788  153671028  153664424  153664474      -\n",
       " 2     ST6GALNAC5  chr1    76867480   77067546   76867440   76867490      +\n",
       " 3     MROH7-TTC4  chr1    54641786   54742308   54641785   54641835      +\n",
       " 4           AGO4  chr1    35808016   35857890   35841672   35841722      +\n",
       " ...          ...   ...         ...        ...        ...        ...    ...\n",
       " 1979      BRINP2  chr1   177170958  177282422  177256780  177256830      +\n",
       " 1980        PPIE  chr1    39692182   39763914   39738878   39738928      +\n",
       " 1981        CRB1  chr1   197268204  197478455  197268277  197268327      +\n",
       " 1982      TRIM33  chr1   114392790  114511203  114406940  114406967      -\n",
       " 1983      SPATA1  chr1    84506300   84566194   84506396   84506418      +\n",
       " \n",
       " [1984 rows x 7 columns],\n",
       "       gene_name          gex\n",
       " 0       SLC20A1     0.000000\n",
       " 1      C11orf58  2906.145340\n",
       " 2        ZSCAN9     9.414950\n",
       " 3          CD19     0.000000\n",
       " 4       TMEM123    26.995929\n",
       " ...         ...          ...\n",
       " 14305     ACOX1     0.000000\n",
       " 14306     MLXIP     0.096071\n",
       " 14307     ASGR2     0.096071\n",
       " 14308     OR5A1     0.000000\n",
       " 14309      TLR3     0.000000\n",
       " \n",
       " [14310 rows x 2 columns],\n",
       "      gene_name         gex\n",
       " 0         ECH1    0.000000\n",
       " 1      CAMSAP3    0.000000\n",
       " 2         MISP    0.000000\n",
       " 3       MCOLN1    0.000000\n",
       " 4        CHERP    0.480536\n",
       " ...        ...         ...\n",
       " 1969   TMPRSS9    0.000000\n",
       " 1970     PSMA3    1.057178\n",
       " 1971   PLEKHA4    0.000000\n",
       " 1972   DENND1C  155.981831\n",
       " 1973    CC2D1A    0.000000\n",
       " \n",
       " [1974 rows x 2 columns],\n",
       "      gene_name    chr  gene_start  gene_end  TSS_start   TSS_end strand\n",
       " 0         ECH1  chr19    38815422  38831841   38816220  38816270      -\n",
       " 1      CAMSAP3  chr19     7595863   7618304    7595901   7595951      +\n",
       " 2         MISP  chr19      751112    764318     758062    758112      +\n",
       " 3       MCOLN1  chr19     7522624   7534009    7526239   7526289      +\n",
       " 4        CHERP  chr19    16517894  16542437   16542159  16542209      -\n",
       " ...        ...    ...         ...       ...        ...       ...    ...\n",
       " 1969   TMPRSS9  chr19     2360238   2426239    2389785   2389835      +\n",
       " 1970     PSMA3  chr14    58244843  58272012   58247788  58247832      +\n",
       " 1971   PLEKHA4  chr19    48837097  48868617   48865507  48865557      -\n",
       " 1972   DENND1C  chr19     6467207   6482557    6481737   6481787      -\n",
       " 1973    CC2D1A  chr19    13906201  13930879   13920276  13920326      +\n",
       " \n",
       " [1974 rows x 7 columns],\n",
       "      gene_name    chr  gene_start  gene_end  TSS_start   TSS_end strand\n",
       " 0         ECH1  chr19    38815422  38831841   38816220  38816270      -\n",
       " 1      CAMSAP3  chr19     7595863   7618304    7595901   7595951      +\n",
       " 2         MISP  chr19      751112    764318     758062    758112      +\n",
       " 3       MCOLN1  chr19     7522624   7534009    7526239   7526289      +\n",
       " 4        CHERP  chr19    16517894  16542437   16542159  16542209      -\n",
       " ...        ...    ...         ...       ...        ...       ...    ...\n",
       " 1969   TMPRSS9  chr19     2360238   2426239    2389785   2389835      +\n",
       " 1970     PSMA3  chr14    58244843  58272012   58247788  58247832      +\n",
       " 1971   PLEKHA4  chr19    48837097  48868617   48865507  48865557      -\n",
       " 1972   DENND1C  chr19     6467207   6482557    6481758   6481808      -\n",
       " 1973    CC2D1A  chr19    13906201  13930879   13920276  13920326      +\n",
       " \n",
       " [1974 rows x 7 columns],\n",
       "      gene_name       gex\n",
       " 0         ECH1  0.000000\n",
       " 1      CAMSAP3  1.056780\n",
       " 2         MISP  0.000000\n",
       " 3       MCOLN1  0.000000\n",
       " 4        CHERP  0.000000\n",
       " ...        ...       ...\n",
       " 1969   TMPRSS9  0.000000\n",
       " 1970     PSMA3  0.096071\n",
       " 1971   PLEKHA4  0.000000\n",
       " 1972   DENND1C  0.000000\n",
       " 1973    CC2D1A  0.000000\n",
       " \n",
       " [1974 rows x 2 columns],\n",
       "       gene_name    chr  gene_start   gene_end  TSS_start    TSS_end strand\n",
       " 0       SLC20A1   chr2   112645939  112663825  112658362  112658412      +\n",
       " 1      C11orf58  chr11    16613132   16758340   16738643   16738693      +\n",
       " 2        ZSCAN9   chr6    28224886   28233487   28225263   28225313      +\n",
       " 3          CD19  chr16    28931965   28939342   28931967   28932017      +\n",
       " 4       TMEM123  chr11   102396332  102470384  102452789  102452839      -\n",
       " ...         ...    ...         ...        ...        ...        ...    ...\n",
       " 14305     ACOX1  chr17    75941507   75979177   75955565   75955589      -\n",
       " 14306     MLXIP  chr12   122078756  122147344  122127887  122127937      +\n",
       " 14307     ASGR2  chr17     7101322    7115700    7114614    7114653      -\n",
       " 14308     OR5A1  chr11    59436469   59451380   59443143   59443193      +\n",
       " 14309      TLR3   chr4   186069155  186088073  186069154  186069204      +\n",
       " \n",
       " [14310 rows x 7 columns],\n",
       "       gene_name    chr  gene_start   gene_end  TSS_start    TSS_end strand\n",
       " 0       SLC20A1   chr2   112645939  112663825  112658362  112658412      +\n",
       " 1      C11orf58  chr11    16613132   16758340   16738643   16738693      +\n",
       " 2        ZSCAN9   chr6    28224886   28233487   28225263   28225313      +\n",
       " 3          CD19  chr16    28931965   28939342   28931956   28932006      +\n",
       " 4       TMEM123  chr11   102396332  102470384  102452789  102452839      -\n",
       " ...         ...    ...         ...        ...        ...        ...    ...\n",
       " 14305     ACOX1  chr17    75941507   75979177   75955565   75955589      -\n",
       " 14306     MLXIP  chr12   122078756  122147344  122127887  122127937      +\n",
       " 14307     ASGR2  chr17     7101322    7115700    7114614    7114653      -\n",
       " 14308     OR5A1  chr11    59436469   59451380   59443143   59443193      +\n",
       " 14309      TLR3   chr4   186069155  186088073  186069154  186069204      +\n",
       " \n",
       " [14310 rows x 7 columns]]"
      ]
     },
     "execution_count": 22,
     "metadata": {},
     "output_type": "execute_result"
    }
   ],
   "source": [
    "dfs"
   ]
  },
  {
   "cell_type": "code",
   "execution_count": 12,
   "metadata": {},
   "outputs": [
    {
     "ename": "FileNotFoundError",
     "evalue": "[Errno 2] No such file or directory: 'your_file.zip'",
     "output_type": "error",
     "traceback": [
      "\u001b[0;31m---------------------------------------------------------------------------\u001b[0m",
      "\u001b[0;31mFileNotFoundError\u001b[0m                         Traceback (most recent call last)",
      "Cell \u001b[0;32mIn[12], line 10\u001b[0m\n\u001b[1;32m      7\u001b[0m extracted_folder \u001b[38;5;241m=\u001b[39m \u001b[38;5;124m'\u001b[39m\u001b[38;5;124mextracted_files\u001b[39m\u001b[38;5;124m'\u001b[39m\n\u001b[1;32m      9\u001b[0m \u001b[38;5;66;03m# Step 1: Extract the zip file\u001b[39;00m\n\u001b[0;32m---> 10\u001b[0m \u001b[38;5;28;01mwith\u001b[39;00m \u001b[43mzipfile\u001b[49m\u001b[38;5;241;43m.\u001b[39;49m\u001b[43mZipFile\u001b[49m\u001b[43m(\u001b[49m\u001b[43mzip_file_path\u001b[49m\u001b[43m,\u001b[49m\u001b[43m \u001b[49m\u001b[38;5;124;43m'\u001b[39;49m\u001b[38;5;124;43mr\u001b[39;49m\u001b[38;5;124;43m'\u001b[39;49m\u001b[43m)\u001b[49m \u001b[38;5;28;01mas\u001b[39;00m zip_ref:\n\u001b[1;32m     11\u001b[0m     zip_ref\u001b[38;5;241m.\u001b[39mextractall(\u001b[38;5;124m'\u001b[39m\u001b[38;5;124munzipped_files\u001b[39m\u001b[38;5;124m'\u001b[39m)\n\u001b[1;32m     13\u001b[0m \u001b[38;5;66;03m# Step 2: List the .tsv files, ignoring __MACOSX files\u001b[39;00m\n",
      "File \u001b[0;32m/opt/anaconda3/envs/ml4g_project1/lib/python3.13/zipfile/__init__.py:1362\u001b[0m, in \u001b[0;36mZipFile.__init__\u001b[0;34m(self, file, mode, compression, allowZip64, compresslevel, strict_timestamps, metadata_encoding)\u001b[0m\n\u001b[1;32m   1360\u001b[0m \u001b[38;5;28;01mwhile\u001b[39;00m \u001b[38;5;28;01mTrue\u001b[39;00m:\n\u001b[1;32m   1361\u001b[0m     \u001b[38;5;28;01mtry\u001b[39;00m:\n\u001b[0;32m-> 1362\u001b[0m         \u001b[38;5;28mself\u001b[39m\u001b[38;5;241m.\u001b[39mfp \u001b[38;5;241m=\u001b[39m \u001b[43mio\u001b[49m\u001b[38;5;241;43m.\u001b[39;49m\u001b[43mopen\u001b[49m\u001b[43m(\u001b[49m\u001b[43mfile\u001b[49m\u001b[43m,\u001b[49m\u001b[43m \u001b[49m\u001b[43mfilemode\u001b[49m\u001b[43m)\u001b[49m\n\u001b[1;32m   1363\u001b[0m     \u001b[38;5;28;01mexcept\u001b[39;00m \u001b[38;5;167;01mOSError\u001b[39;00m:\n\u001b[1;32m   1364\u001b[0m         \u001b[38;5;28;01mif\u001b[39;00m filemode \u001b[38;5;129;01min\u001b[39;00m modeDict:\n",
      "\u001b[0;31mFileNotFoundError\u001b[0m: [Errno 2] No such file or directory: 'your_file.zip'"
     ]
    }
   ],
   "source": [
    "import pandas as pd\n",
    "import zipfile\n",
    "import os\n",
    "\n",
    "# Replace 'your_file.zip' with the path to your actual zip file\n",
    "zip_file_path = 'your_file.zip'\n",
    "extracted_folder = 'extracted_files'\n",
    "\n",
    "# Step 1: Extract the zip file\n",
    "with zipfile.ZipFile(zip_file_path, 'r') as zip_ref:\n",
    "    zip_ref.extractall('unzipped_files')\n",
    "\n",
    "# Step 2: List the .tsv files, ignoring __MACOSX files\n",
    "tsv_files = []\n",
    "for root, dirs, files in os.walk(extracted_folder):\n",
    "    for file in files:\n",
    "        if file.endswith('.tsv') and not file.startswith('._'):\n",
    "            tsv_files.append(os.path.join(root, file))\n",
    "\n",
    "# Step 3: Read and merge all .tsv files\n",
    "dfs = []\n",
    "for tsv_file in tsv_files:\n",
    "    df = pd.read_csv(tsv_file, delimiter='\\t')\n",
    "    dfs.append(df)\n",
    "\n",
    "# Combine all DataFrames into one\n",
    "merged_df = pd.concat(dfs, ignore_index=True)\n",
    "\n",
    "# Step 4: Display the merged DataFrame\n",
    "print(merged_df.head())\n",
    "\n",
    "# Optionally, save the merged DataFrame to a new .csv or .tsv file\n",
    "# merged_df.to_csv('merged_file.csv', index=False)"
   ]
  },
  {
   "cell_type": "markdown",
   "metadata": {},
   "source": [
    "## Work Package 1.2 - Model Building"
   ]
  },
  {
   "cell_type": "code",
   "execution_count": null,
   "metadata": {},
   "outputs": [],
   "source": [
    "# TODO: \n",
    "# Select the best model to predict gene expression from the obtained features in WP 1.1.\n",
    "\n",
    "# ---------------------------INSERT CODE HERE---------------------------\n",
    "\n",
    "\n",
    "\n",
    "\n",
    "# ----------------------------------------------------------------------\n"
   ]
  },
  {
   "cell_type": "markdown",
   "metadata": {},
   "source": [
    "## Work Package 1.3 - Prediction on Test Data (Evaluation Metric)"
   ]
  },
  {
   "cell_type": "code",
   "execution_count": null,
   "metadata": {},
   "outputs": [],
   "source": [
    "# TODO:\n",
    "# Using the model trained in WP 1.2, make predictions on the test data (chr 1 of cell line X3).\n",
    "# Store predictions in a variable called \"pred\" which is a numpy array.\n",
    "\n",
    "pred = None\n",
    "# ---------------------------INSERT CODE HERE---------------------------\n",
    "\n",
    "\n",
    "\n",
    "\n",
    "# ----------------------------------------------------------------------\n",
    "\n",
    "# Check if \"pred\" meets the specified constrains\n",
    "assert isinstance(pred, np.ndarray), 'Prediction array must be a numpy array'\n",
    "assert np.issubdtype(pred.dtype, np.number), 'Prediction array must be numeric'\n",
    "assert pred.shape[0] == len(test_genes), 'Each gene should have a unique predicted expression'"
   ]
  },
  {
   "cell_type": "markdown",
   "metadata": {},
   "source": [
    "#### Store Predictions in the Required Format"
   ]
  },
  {
   "cell_type": "code",
   "execution_count": null,
   "metadata": {},
   "outputs": [],
   "source": [
    "# Store predictions in a ZIP. \n",
    "# Upload this zip on the project website under \"Your submission\".\n",
    "# Zip this notebook along with the conda environment (and README, optional) and upload this under \"Your code\".\n",
    "\n",
    "save_dir = 'path/to/save/output/file'  # TODO\n",
    "file_name = 'gex_predicted.csv'         # PLEASE DO NOT CHANGE THIS\n",
    "zip_name = \"LastName_FirstName_Project1.zip\" # TODO\n",
    "save_path = f'{save_dir}/{zip_name}'\n",
    "compression_options = dict(method=\"zip\", archive_name=file_name)\n",
    "\n",
    "test_genes['gex_predicted'] = pred.tolist()\n",
    "test_genes[['gene_name', 'gex_predicted']].to_csv(save_path, compression=compression_options)"
   ]
  }
 ],
 "metadata": {
  "kernelspec": {
   "display_name": "Python 3 (ipykernel)",
   "language": "python",
   "name": "python3"
  },
  "language_info": {
   "codemirror_mode": {
    "name": "ipython",
    "version": 3
   },
   "file_extension": ".py",
   "mimetype": "text/x-python",
   "name": "python",
   "nbconvert_exporter": "python",
   "pygments_lexer": "ipython3",
   "version": "3.8.19"
  }
 },
 "nbformat": 4,
 "nbformat_minor": 4
}
