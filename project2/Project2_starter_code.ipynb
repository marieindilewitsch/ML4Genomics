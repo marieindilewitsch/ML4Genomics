{
 "cells": [
  {
   "cell_type": "code",
   "execution_count": 1,
   "id": "73bf6dca",
   "metadata": {},
   "outputs": [
    {
     "ename": "ModuleNotFoundError",
     "evalue": "No module named 'scanpy'",
     "output_type": "error",
     "traceback": [
      "\u001b[0;31m---------------------------------------------------------------------------\u001b[0m",
      "\u001b[0;31mModuleNotFoundError\u001b[0m                       Traceback (most recent call last)",
      "Cell \u001b[0;32mIn[1], line 6\u001b[0m\n\u001b[1;32m      3\u001b[0m \u001b[38;5;28;01mimport\u001b[39;00m \u001b[38;5;21;01mnumpy\u001b[39;00m \u001b[38;5;28;01mas\u001b[39;00m \u001b[38;5;21;01mnp\u001b[39;00m\n\u001b[1;32m      4\u001b[0m \u001b[38;5;28;01mimport\u001b[39;00m \u001b[38;5;21;01mpathlib\u001b[39;00m \u001b[38;5;28;01mas\u001b[39;00m \u001b[38;5;21;01mpl\u001b[39;00m\n\u001b[0;32m----> 6\u001b[0m \u001b[38;5;28;01mimport\u001b[39;00m \u001b[38;5;21;01mscanpy\u001b[39;00m \u001b[38;5;28;01mas\u001b[39;00m \u001b[38;5;21;01msc\u001b[39;00m\n",
      "\u001b[0;31mModuleNotFoundError\u001b[0m: No module named 'scanpy'"
     ]
    }
   ],
   "source": [
    "# import all libraries you need here\n",
    "import pandas as pd\n",
    "import numpy as np\n",
    "import pathlib as pl\n",
    "\n",
    "import scanpy as sc"
   ]
  },
  {
   "cell_type": "markdown",
   "id": "20e76b52",
   "metadata": {},
   "source": [
    "# Step 0: Download the data"
   ]
  },
  {
   "cell_type": "code",
   "execution_count": null,
   "id": "a650adc1",
   "metadata": {},
   "outputs": [],
   "source": [
    "path_data = pl.Path(\"/Desktop/College/CBB/3rd_Semester/ML4Genomics/Projects/Project_2/ML4G_Project_2_Data/train_data/\")"
   ]
  },
  {
   "cell_type": "code",
   "execution_count": null,
   "id": "28676aad",
   "metadata": {},
   "outputs": [],
   "source": [
    "all_bulkified = pd.read_csv(path_data / \"bulkified_data.csv\",index_col=0)\n",
    "\n",
    "train_adata = sc.read_h5ad(path_data / \"train_adata.h5ad\")\n",
    "test_adata = sc.read_h5ad(path_data / \"test_adata.h5ad\")"
   ]
  },
  {
   "cell_type": "code",
   "execution_count": null,
   "id": "459c10ff",
   "metadata": {},
   "outputs": [],
   "source": [
    "print(f\"Number of patients to deconvolve: {all_bulkified.shape[1]}\")\n",
    "print(f\"Number of genes in dataset: {all_bulkified.shape[0]}\")"
   ]
  },
  {
   "cell_type": "code",
   "execution_count": null,
   "id": "bde772cf",
   "metadata": {},
   "outputs": [],
   "source": [
    "print(f\"Number of cells in the train set {train_adata.n_obs}\")\n",
    "for spl in train_adata.obs.Sample.unique():\n",
    "    print(f\"Number of cells for {spl} is {train_adata[train_adata.obs.Sample==spl].n_obs}\")"
   ]
  },
  {
   "cell_type": "code",
   "execution_count": null,
   "id": "806c6c0a",
   "metadata": {},
   "outputs": [],
   "source": [
    "print(f\"There are {train_adata.obs.highLevelType.nunique()} different cell types in the dataset\")\n",
    "print(f\"The different cells types are {train_adata.obs.highLevelType.unique().astype(str)}\")"
   ]
  },
  {
   "cell_type": "code",
   "execution_count": null,
   "id": "2ee0bc2b",
   "metadata": {},
   "outputs": [],
   "source": [
    "print(f\"Number of cells in the test set {test_adata.n_obs}\")\n",
    "for spl in test_adata.obs.Sample.unique():\n",
    "    print(f\"Number of cells for {spl} is {test_adata[test_adata.obs.Sample==spl].n_obs}\")"
   ]
  },
  {
   "cell_type": "markdown",
   "id": "9d634db5",
   "metadata": {},
   "source": [
    "# Step 1: Deconvolve the data"
   ]
  },
  {
   "cell_type": "code",
   "execution_count": null,
   "id": "a5740d4c",
   "metadata": {},
   "outputs": [],
   "source": [
    "# Write code here to deconvolve the data of all bulkified to obtain estimates of cell type proportions "
   ]
  },
  {
   "cell_type": "markdown",
   "id": "131d64a6",
   "metadata": {},
   "source": [
    "# Step 2: Perform clustering "
   ]
  },
  {
   "cell_type": "code",
   "execution_count": null,
   "id": "c873c596",
   "metadata": {},
   "outputs": [],
   "source": [
    "# Write code here to perform the clustering and try it out on train data"
   ]
  },
  {
   "cell_type": "markdown",
   "id": "652a8830",
   "metadata": {},
   "source": [
    "# Step 2bis: Predict on the test data"
   ]
  },
  {
   "cell_type": "code",
   "execution_count": null,
   "id": "01fd4938",
   "metadata": {},
   "outputs": [],
   "source": [
    "# Use the same clustering technique to cluster the test data "
   ]
  },
  {
   "cell_type": "markdown",
   "id": "d2cc8182",
   "metadata": {},
   "source": [
    "# Step 3: Save the required files"
   ]
  },
  {
   "cell_type": "code",
   "execution_count": null,
   "id": "2da285de",
   "metadata": {},
   "outputs": [],
   "source": [
    "# pred_props should be a DataFrame containing the estimated cell type proportions for the patients in all_bulkified\n",
    "# pred_props.columns = ['index','s5_0','s5_1',...,'s10_3','s10_4'] = np.append([\"index\"],all_bulkified.columns)\n",
    "# pred_props['index'] = ['T', 'Endothelial', 'Fibroblast', 'Plasmablast', 'B', 'Myofibroblast',\n",
    "#       'NK', 'Myeloid', 'Mast']"
   ]
  },
  {
   "cell_type": "code",
   "execution_count": null,
   "id": "8bae7975",
   "metadata": {},
   "outputs": [],
   "source": [
    "results_path = pl.Path(\"path/to/your/results\")"
   ]
  },
  {
   "cell_type": "code",
   "execution_count": null,
   "id": "0dfefc0e",
   "metadata": {},
   "outputs": [],
   "source": [
    "assert all(pred_props.columns == np.append([\"index\"],all_bulkified.columns)), \"Wrong columns\""
   ]
  },
  {
   "cell_type": "code",
   "execution_count": null,
   "id": "73543251",
   "metadata": {},
   "outputs": [],
   "source": [
    "assert all(pred_props['index']== ['T', 'Endothelial', 'Fibroblast', 'Plasmablast', 'B', 'Myofibroblast',\n",
    "       'NK', 'Myeloid', 'Mast']), \"Wrong order for cell types\""
   ]
  },
  {
   "cell_type": "code",
   "execution_count": null,
   "id": "6182ccc1",
   "metadata": {},
   "outputs": [],
   "source": [
    "assert all(pred_props.drop(\"index\",axis=1).sum().round()==1), \"The proportions for a single patient must sum to 1\""
   ]
  },
  {
   "cell_type": "code",
   "execution_count": null,
   "id": "eec6fdbe",
   "metadata": {},
   "outputs": [],
   "source": [
    "# cluster_labels should be a DataFrame containing the cluster labels for each cell\n",
    "# cluster_labels.columns = [\"index\", \"cluster\"]\n",
    "# cluster_labels[\"index\"] = test_adata.columns"
   ]
  },
  {
   "cell_type": "code",
   "execution_count": null,
   "id": "b579f622",
   "metadata": {},
   "outputs": [],
   "source": [
    "assert all(cluster_labels.columns == [\"index\", \"cluster\"]), \"Wrong columns\""
   ]
  },
  {
   "cell_type": "code",
   "execution_count": null,
   "id": "8c4dd353",
   "metadata": {},
   "outputs": [],
   "source": [
    "assert all(cluster_labels[\"index\"] == test_adata.obs_names), \"The cell ids are either not all present or not in the right order\""
   ]
  },
  {
   "cell_type": "code",
   "execution_count": null,
   "id": "5db011fa",
   "metadata": {},
   "outputs": [],
   "source": [
    "import zipfile\n",
    "\n",
    "archive_name = \"LastName_FirstName_Project2.zip\" # TODO\n",
    "\n",
    "with zipfile.ZipFile(results_path / archive_name, \"x\") as zf:\n",
    "    with zf.open(f\"pred_props.csv\", \"w\") as buffer:\n",
    "        pred_props.to_csv(buffer)\n",
    "    with zf.open(f\"cluster_membership.csv\", \"w\") as buffer:\n",
    "        cluster_labels.to_csv(buffer)\n",
    "    zf.close()"
   ]
  }
 ],
 "metadata": {
  "kernelspec": {
   "display_name": "Python 3 (ipykernel)",
   "language": "python",
   "name": "python3"
  },
  "language_info": {
   "codemirror_mode": {
    "name": "ipython",
    "version": 3
   },
   "file_extension": ".py",
   "mimetype": "text/x-python",
   "name": "python",
   "nbconvert_exporter": "python",
   "pygments_lexer": "ipython3",
   "version": "3.8.19"
  }
 },
 "nbformat": 4,
 "nbformat_minor": 5
}
